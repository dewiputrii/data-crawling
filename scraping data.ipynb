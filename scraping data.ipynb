{
 "cells": [
  {
   "cell_type": "code",
   "execution_count": 28,
   "id": "d51b921a",
   "metadata": {
    "colab": {
     "base_uri": "https://localhost:8080/"
    },
    "id": "d51b921a",
    "outputId": "847e8544-556d-401f-805f-98aed806b719"
   },
   "outputs": [
    {
     "name": "stdout",
     "output_type": "stream",
     "text": [
      "Requirement already satisfied: bs4 in c:\\users\\asus\\anaconda3\\lib\\site-packages (0.0.1)\n",
      "Requirement already satisfied: beautifulsoup4 in c:\\users\\asus\\anaconda3\\lib\\site-packages (from bs4) (4.11.1)\n",
      "Requirement already satisfied: soupsieve>1.2 in c:\\users\\asus\\anaconda3\\lib\\site-packages (from beautifulsoup4->bs4) (2.3.1)\n"
     ]
    }
   ],
   "source": [
    "!pip install bs4"
   ]
  },
  {
   "cell_type": "code",
   "execution_count": 29,
   "id": "60c98b42",
   "metadata": {
    "id": "60c98b42"
   },
   "outputs": [],
   "source": [
    "from bs4 import BeautifulSoup\n",
    "import requests\n",
    "import pandas as pd"
   ]
  },
  {
   "cell_type": "code",
   "execution_count": 37,
   "id": "d0a14ff7",
   "metadata": {
    "id": "d0a14ff7"
   },
   "outputs": [],
   "source": [
    "page = requests.get('https://www.mobbi.id/cari-mobil?q=%3Arelevance%3Acity%3AKota%2BSurabaya%3AGrade%3Amobbi%2BCertified%2BA%3AGrade%3Amobbi%2BCertified%2BB%3AGrade%3Amobbi%2BCertified%2BC&utm_source=sem&utm_medium=PaidSearch-SEM&utm_campaign=SEM_union_mo88i_selling_location-mobil_bekas_surabaya&utm_content=SEM_union_mo88i_selling_location-mobil_bekas_surabaya+harga&utm_term=harga%20mobil%20bekas%20surabaya&network=g&matchtype=p&adposition=&device=c&gclid=CjwKCAjw4ZWkBhA4EiwAVJXwqX_qVSqSnkRUAxblvEVdLoBACVu0QmEkBPKmLsFpfsX9JP6vgX8QVhoCRrIQAvD_BwE')"
   ]
  },
  {
   "cell_type": "code",
   "execution_count": 38,
   "id": "a5b3e5cd",
   "metadata": {
    "id": "a5b3e5cd"
   },
   "outputs": [],
   "source": [
    "soup = BeautifulSoup(page.content ,'html.parser')"
   ]
  },
  {
   "cell_type": "code",
   "execution_count": 39,
   "id": "bc5b262b",
   "metadata": {
    "colab": {
     "base_uri": "https://localhost:8080/",
     "height": 35
    },
    "id": "bc5b262b",
    "outputId": "f36b53ed-1214-4507-caea-f3bf6c6f2cab"
   },
   "outputs": [
    {
     "data": {
      "text/plain": [
       "'2021\\xa0Daihatsu ROCKY R ASA '"
      ]
     },
     "execution_count": 39,
     "metadata": {},
     "output_type": "execute_result"
    }
   ],
   "source": [
    "soup.find('h5', class_='product-name').text"
   ]
  },
  {
   "cell_type": "code",
   "execution_count": 41,
   "id": "_93AC6cWpZD3",
   "metadata": {
    "colab": {
     "base_uri": "https://localhost:8080/",
     "height": 35
    },
    "id": "_93AC6cWpZD3",
    "outputId": "cf92ad0c-c4c4-4382-c5e3-83b5542c1f6b"
   },
   "outputs": [
    {
     "data": {
      "text/plain": [
       "'Rp 241.000.000'"
      ]
     },
     "execution_count": 41,
     "metadata": {},
     "output_type": "execute_result"
    }
   ],
   "source": [
    "soup.find('p', class_='price').text"
   ]
  },
  {
   "cell_type": "code",
   "execution_count": 42,
   "id": "9dbe5f2c",
   "metadata": {},
   "outputs": [
    {
     "data": {
      "text/plain": [
       "'Kota Surabaya'"
      ]
     },
     "execution_count": 42,
     "metadata": {},
     "output_type": "execute_result"
    }
   ],
   "source": [
    "soup.find('a', class_='pos-city').text"
   ]
  },
  {
   "cell_type": "code",
   "execution_count": 43,
   "id": "c2049795",
   "metadata": {
    "id": "c2049795"
   },
   "outputs": [],
   "source": [
    "mobil_nama = soup.find_all('h5', class_='product-name')                                                       "
   ]
  },
  {
   "cell_type": "code",
   "execution_count": 53,
   "id": "Wos0t6LZp14p",
   "metadata": {
    "id": "Wos0t6LZp14p"
   },
   "outputs": [],
   "source": [
    "mobil_harga = soup.find_all('p', class_='price')    "
   ]
  },
  {
   "cell_type": "code",
   "execution_count": 45,
   "id": "C-gXCj6Cp9Q_",
   "metadata": {
    "id": "C-gXCj6Cp9Q_"
   },
   "outputs": [],
   "source": [
    "mobil_alamat = soup.find_all('a', class_='pos-city')    "
   ]
  },
  {
   "cell_type": "code",
   "execution_count": 46,
   "id": "b63da67d",
   "metadata": {
    "colab": {
     "base_uri": "https://localhost:8080/"
    },
    "id": "b63da67d",
    "outputId": "755b0da0-5bdc-48c2-ebf0-aa8a76c76212"
   },
   "outputs": [
    {
     "name": "stdout",
     "output_type": "stream",
     "text": [
      "2021 Daihatsu ROCKY R ASA \n",
      "2021 Toyota VIOS G \n",
      "2017 Honda CIVIC TURBO ES \n",
      "2018 Daihatsu SIRION D NEW \n",
      "2019 Honda JAZZ RS \n",
      "2018 Mitsubishi XPANDER ULTIMATE \n",
      "2017 Honda CR-V TURBO PRESTIGE \n",
      "2019 Mitsubishi XPANDER ULTIMATE \n",
      "2019 Toyota RUSH S TRD \n",
      "2019 Honda JAZZ RS \n",
      "2019 Toyota CAMRY V \n",
      "2019 Toyota CAMRY V \n",
      "2018 Mitsubishi XPANDER ULTIMATE \n",
      "2016 Honda HR-V E \n",
      "2019 Honda JAZZ RS \n",
      "2019 Honda HR-V E \n",
      "2019 Honda JAZZ RS \n",
      "2011 Lexus RX 270 \n",
      "2021 Honda BRIO RS \n",
      "2020 Suzuki XL7 BETA \n"
     ]
    }
   ],
   "source": [
    "for each_mobil_nama in mobil_nama :\n",
    "    print (each_mobil_nama.text)"
   ]
  },
  {
   "cell_type": "code",
   "execution_count": 47,
   "id": "o4hf5JZIqcMr",
   "metadata": {
    "colab": {
     "base_uri": "https://localhost:8080/"
    },
    "id": "o4hf5JZIqcMr",
    "outputId": "dc0628a1-4157-452c-ba43-02b38e1b93c7"
   },
   "outputs": [
    {
     "name": "stdout",
     "output_type": "stream",
     "text": [
      "Rp 241.000.000\n",
      "Rp 210.000.000\n",
      "Rp 376.000.000\n",
      "Rp 174.000.000\n",
      "Rp 273.000.000\n",
      "Rp 237.000.000\n",
      "Rp 414.000.000\n",
      "Rp 247.000.000\n",
      "Rp 246.000.000\n",
      "Rp 277.000.000\n",
      "Rp 486.000.000\n",
      "Rp 470.000.000\n",
      "Rp 235.000.000\n",
      "Rp 245.000.000\n",
      "Rp 276.000.000\n",
      "Rp 290.000.000\n",
      "Rp 271.000.000\n",
      "Rp 292.000.000\n",
      "Rp 198.000.000\n",
      "Rp 214.000.000\n"
     ]
    }
   ],
   "source": [
    "for each_mobil_harga in mobil_harga :\n",
    "    print (each_mobil_harga.text)"
   ]
  },
  {
   "cell_type": "code",
   "execution_count": 48,
   "id": "qrdPzz8jqimu",
   "metadata": {
    "colab": {
     "base_uri": "https://localhost:8080/"
    },
    "id": "qrdPzz8jqimu",
    "outputId": "858f256a-670d-41db-a893-08483e15e403"
   },
   "outputs": [
    {
     "name": "stdout",
     "output_type": "stream",
     "text": [
      "Kota Surabaya\n",
      "Kota Surabaya\n",
      "Kota Surabaya\n",
      "Kota Surabaya\n",
      "Kota Surabaya\n",
      "Kota Surabaya\n",
      "Kota Surabaya\n",
      "Kota Surabaya\n",
      "Kota Surabaya\n",
      "Kota Surabaya\n",
      "Kota Surabaya\n",
      "Kota Surabaya\n",
      "Kota Surabaya\n",
      "Kota Surabaya\n",
      "Kota Surabaya\n",
      "Kota Surabaya\n",
      "Kota Surabaya\n",
      "Kota Surabaya\n",
      "Kota Surabaya\n",
      "Kota Surabaya\n"
     ]
    }
   ],
   "source": [
    "for each_mobil_alamat in mobil_alamat :\n",
    "    print (each_mobil_alamat.text)"
   ]
  },
  {
   "cell_type": "code",
   "execution_count": 49,
   "id": "253f9920",
   "metadata": {
    "id": "253f9920"
   },
   "outputs": [],
   "source": [
    "data_nama = []\n",
    "for each_mobil_nama in mobil_nama:\n",
    "    data_nama.append(each_mobil_nama.text)"
   ]
  },
  {
   "cell_type": "code",
   "execution_count": 50,
   "id": "6b3a0ca0",
   "metadata": {
    "colab": {
     "base_uri": "https://localhost:8080/"
    },
    "id": "6b3a0ca0",
    "outputId": "ad6fb287-4738-4c98-be5c-23226266ed75"
   },
   "outputs": [
    {
     "data": {
      "text/plain": [
       "['2021\\xa0Daihatsu ROCKY R ASA ',\n",
       " '2021\\xa0Toyota VIOS G ',\n",
       " '2017\\xa0Honda CIVIC TURBO ES ',\n",
       " '2018\\xa0Daihatsu SIRION D NEW ',\n",
       " '2019\\xa0Honda JAZZ RS ',\n",
       " '2018\\xa0Mitsubishi XPANDER ULTIMATE ',\n",
       " '2017\\xa0Honda CR-V TURBO PRESTIGE ',\n",
       " '2019\\xa0Mitsubishi XPANDER ULTIMATE ',\n",
       " '2019\\xa0Toyota RUSH S TRD ',\n",
       " '2019\\xa0Honda JAZZ RS ',\n",
       " '2019\\xa0Toyota CAMRY V ',\n",
       " '2019\\xa0Toyota CAMRY V ',\n",
       " '2018\\xa0Mitsubishi XPANDER ULTIMATE ',\n",
       " '2016\\xa0Honda HR-V E ',\n",
       " '2019\\xa0Honda JAZZ RS ',\n",
       " '2019\\xa0Honda HR-V E ',\n",
       " '2019\\xa0Honda JAZZ RS ',\n",
       " '2011\\xa0Lexus RX 270 ',\n",
       " '2021\\xa0Honda BRIO RS ',\n",
       " '2020\\xa0Suzuki XL7 BETA ']"
      ]
     },
     "execution_count": 50,
     "metadata": {},
     "output_type": "execute_result"
    }
   ],
   "source": [
    "data_nama"
   ]
  },
  {
   "cell_type": "code",
   "execution_count": 54,
   "id": "pybhiiwYrANM",
   "metadata": {
    "id": "pybhiiwYrANM"
   },
   "outputs": [],
   "source": [
    "data_harga = []\n",
    "for each_mobil_harga in mobil_harga:\n",
    "    data_harga.append(each_mobil_harga.text)"
   ]
  },
  {
   "cell_type": "code",
   "execution_count": 55,
   "id": "s22peN-arJWi",
   "metadata": {
    "colab": {
     "base_uri": "https://localhost:8080/"
    },
    "id": "s22peN-arJWi",
    "outputId": "f6511205-89ee-4682-9cb3-e1d5427cfa37"
   },
   "outputs": [
    {
     "data": {
      "text/plain": [
       "['Rp 241.000.000',\n",
       " 'Rp 210.000.000',\n",
       " 'Rp 376.000.000',\n",
       " 'Rp 174.000.000',\n",
       " 'Rp 273.000.000',\n",
       " 'Rp 237.000.000',\n",
       " 'Rp 414.000.000',\n",
       " 'Rp 247.000.000',\n",
       " 'Rp 246.000.000',\n",
       " 'Rp 277.000.000',\n",
       " 'Rp 486.000.000',\n",
       " 'Rp 470.000.000',\n",
       " 'Rp 235.000.000',\n",
       " 'Rp 245.000.000',\n",
       " 'Rp 276.000.000',\n",
       " 'Rp 290.000.000',\n",
       " 'Rp 271.000.000',\n",
       " 'Rp 292.000.000',\n",
       " 'Rp 198.000.000',\n",
       " 'Rp 214.000.000']"
      ]
     },
     "execution_count": 55,
     "metadata": {},
     "output_type": "execute_result"
    }
   ],
   "source": [
    "data_harga"
   ]
  },
  {
   "cell_type": "code",
   "execution_count": 56,
   "id": "vFS4YewWrNVV",
   "metadata": {
    "id": "vFS4YewWrNVV"
   },
   "outputs": [],
   "source": [
    "data_alamat = []\n",
    "for each_mobil_alamat in mobil_alamat:\n",
    "    data_alamat.append(each_mobil_alamat.text)"
   ]
  },
  {
   "cell_type": "code",
   "execution_count": 57,
   "id": "CBPoQwFVrWew",
   "metadata": {
    "colab": {
     "base_uri": "https://localhost:8080/"
    },
    "id": "CBPoQwFVrWew",
    "outputId": "e3f2b05e-231d-405d-9414-1b3c061ff8ff"
   },
   "outputs": [
    {
     "data": {
      "text/plain": [
       "['Kota Surabaya',\n",
       " 'Kota Surabaya',\n",
       " 'Kota Surabaya',\n",
       " 'Kota Surabaya',\n",
       " 'Kota Surabaya',\n",
       " 'Kota Surabaya',\n",
       " 'Kota Surabaya',\n",
       " 'Kota Surabaya',\n",
       " 'Kota Surabaya',\n",
       " 'Kota Surabaya',\n",
       " 'Kota Surabaya',\n",
       " 'Kota Surabaya',\n",
       " 'Kota Surabaya',\n",
       " 'Kota Surabaya',\n",
       " 'Kota Surabaya',\n",
       " 'Kota Surabaya',\n",
       " 'Kota Surabaya',\n",
       " 'Kota Surabaya',\n",
       " 'Kota Surabaya',\n",
       " 'Kota Surabaya']"
      ]
     },
     "execution_count": 57,
     "metadata": {},
     "output_type": "execute_result"
    }
   ],
   "source": [
    "data_alamat"
   ]
  },
  {
   "cell_type": "code",
   "execution_count": 58,
   "id": "9b1c495d",
   "metadata": {
    "id": "9b1c495d"
   },
   "outputs": [],
   "source": [
    "data = {\n",
    "    'nama mobil': data_nama,\n",
    "    'harga': data_harga,\n",
    "    'alamat mobil': data_alamat\n",
    "}"
   ]
  },
  {
   "cell_type": "code",
   "execution_count": 59,
   "id": "a51ccd05",
   "metadata": {
    "colab": {
     "base_uri": "https://localhost:8080/",
     "height": 426
    },
    "id": "a51ccd05",
    "outputId": "32f9955d-3866-4fab-8b6f-b24232e2727b"
   },
   "outputs": [
    {
     "data": {
      "text/html": [
       "<div>\n",
       "<style scoped>\n",
       "    .dataframe tbody tr th:only-of-type {\n",
       "        vertical-align: middle;\n",
       "    }\n",
       "\n",
       "    .dataframe tbody tr th {\n",
       "        vertical-align: top;\n",
       "    }\n",
       "\n",
       "    .dataframe thead th {\n",
       "        text-align: right;\n",
       "    }\n",
       "</style>\n",
       "<table border=\"1\" class=\"dataframe\">\n",
       "  <thead>\n",
       "    <tr style=\"text-align: right;\">\n",
       "      <th></th>\n",
       "      <th>nama mobil</th>\n",
       "      <th>harga</th>\n",
       "      <th>alamat mobil</th>\n",
       "    </tr>\n",
       "  </thead>\n",
       "  <tbody>\n",
       "    <tr>\n",
       "      <th>0</th>\n",
       "      <td>2021 Daihatsu ROCKY R ASA</td>\n",
       "      <td>Rp 241.000.000</td>\n",
       "      <td>Kota Surabaya</td>\n",
       "    </tr>\n",
       "    <tr>\n",
       "      <th>1</th>\n",
       "      <td>2021 Toyota VIOS G</td>\n",
       "      <td>Rp 210.000.000</td>\n",
       "      <td>Kota Surabaya</td>\n",
       "    </tr>\n",
       "    <tr>\n",
       "      <th>2</th>\n",
       "      <td>2017 Honda CIVIC TURBO ES</td>\n",
       "      <td>Rp 376.000.000</td>\n",
       "      <td>Kota Surabaya</td>\n",
       "    </tr>\n",
       "    <tr>\n",
       "      <th>3</th>\n",
       "      <td>2018 Daihatsu SIRION D NEW</td>\n",
       "      <td>Rp 174.000.000</td>\n",
       "      <td>Kota Surabaya</td>\n",
       "    </tr>\n",
       "    <tr>\n",
       "      <th>4</th>\n",
       "      <td>2019 Honda JAZZ RS</td>\n",
       "      <td>Rp 273.000.000</td>\n",
       "      <td>Kota Surabaya</td>\n",
       "    </tr>\n",
       "    <tr>\n",
       "      <th>5</th>\n",
       "      <td>2018 Mitsubishi XPANDER ULTIMATE</td>\n",
       "      <td>Rp 237.000.000</td>\n",
       "      <td>Kota Surabaya</td>\n",
       "    </tr>\n",
       "    <tr>\n",
       "      <th>6</th>\n",
       "      <td>2017 Honda CR-V TURBO PRESTIGE</td>\n",
       "      <td>Rp 414.000.000</td>\n",
       "      <td>Kota Surabaya</td>\n",
       "    </tr>\n",
       "    <tr>\n",
       "      <th>7</th>\n",
       "      <td>2019 Mitsubishi XPANDER ULTIMATE</td>\n",
       "      <td>Rp 247.000.000</td>\n",
       "      <td>Kota Surabaya</td>\n",
       "    </tr>\n",
       "    <tr>\n",
       "      <th>8</th>\n",
       "      <td>2019 Toyota RUSH S TRD</td>\n",
       "      <td>Rp 246.000.000</td>\n",
       "      <td>Kota Surabaya</td>\n",
       "    </tr>\n",
       "    <tr>\n",
       "      <th>9</th>\n",
       "      <td>2019 Honda JAZZ RS</td>\n",
       "      <td>Rp 277.000.000</td>\n",
       "      <td>Kota Surabaya</td>\n",
       "    </tr>\n",
       "    <tr>\n",
       "      <th>10</th>\n",
       "      <td>2019 Toyota CAMRY V</td>\n",
       "      <td>Rp 486.000.000</td>\n",
       "      <td>Kota Surabaya</td>\n",
       "    </tr>\n",
       "    <tr>\n",
       "      <th>11</th>\n",
       "      <td>2019 Toyota CAMRY V</td>\n",
       "      <td>Rp 470.000.000</td>\n",
       "      <td>Kota Surabaya</td>\n",
       "    </tr>\n",
       "    <tr>\n",
       "      <th>12</th>\n",
       "      <td>2018 Mitsubishi XPANDER ULTIMATE</td>\n",
       "      <td>Rp 235.000.000</td>\n",
       "      <td>Kota Surabaya</td>\n",
       "    </tr>\n",
       "    <tr>\n",
       "      <th>13</th>\n",
       "      <td>2016 Honda HR-V E</td>\n",
       "      <td>Rp 245.000.000</td>\n",
       "      <td>Kota Surabaya</td>\n",
       "    </tr>\n",
       "    <tr>\n",
       "      <th>14</th>\n",
       "      <td>2019 Honda JAZZ RS</td>\n",
       "      <td>Rp 276.000.000</td>\n",
       "      <td>Kota Surabaya</td>\n",
       "    </tr>\n",
       "    <tr>\n",
       "      <th>15</th>\n",
       "      <td>2019 Honda HR-V E</td>\n",
       "      <td>Rp 290.000.000</td>\n",
       "      <td>Kota Surabaya</td>\n",
       "    </tr>\n",
       "    <tr>\n",
       "      <th>16</th>\n",
       "      <td>2019 Honda JAZZ RS</td>\n",
       "      <td>Rp 271.000.000</td>\n",
       "      <td>Kota Surabaya</td>\n",
       "    </tr>\n",
       "    <tr>\n",
       "      <th>17</th>\n",
       "      <td>2011 Lexus RX 270</td>\n",
       "      <td>Rp 292.000.000</td>\n",
       "      <td>Kota Surabaya</td>\n",
       "    </tr>\n",
       "    <tr>\n",
       "      <th>18</th>\n",
       "      <td>2021 Honda BRIO RS</td>\n",
       "      <td>Rp 198.000.000</td>\n",
       "      <td>Kota Surabaya</td>\n",
       "    </tr>\n",
       "    <tr>\n",
       "      <th>19</th>\n",
       "      <td>2020 Suzuki XL7 BETA</td>\n",
       "      <td>Rp 214.000.000</td>\n",
       "      <td>Kota Surabaya</td>\n",
       "    </tr>\n",
       "  </tbody>\n",
       "</table>\n",
       "</div>"
      ],
      "text/plain": [
       "                           nama mobil           harga   alamat mobil\n",
       "0          2021 Daihatsu ROCKY R ASA   Rp 241.000.000  Kota Surabaya\n",
       "1                 2021 Toyota VIOS G   Rp 210.000.000  Kota Surabaya\n",
       "2          2017 Honda CIVIC TURBO ES   Rp 376.000.000  Kota Surabaya\n",
       "3         2018 Daihatsu SIRION D NEW   Rp 174.000.000  Kota Surabaya\n",
       "4                 2019 Honda JAZZ RS   Rp 273.000.000  Kota Surabaya\n",
       "5   2018 Mitsubishi XPANDER ULTIMATE   Rp 237.000.000  Kota Surabaya\n",
       "6     2017 Honda CR-V TURBO PRESTIGE   Rp 414.000.000  Kota Surabaya\n",
       "7   2019 Mitsubishi XPANDER ULTIMATE   Rp 247.000.000  Kota Surabaya\n",
       "8             2019 Toyota RUSH S TRD   Rp 246.000.000  Kota Surabaya\n",
       "9                 2019 Honda JAZZ RS   Rp 277.000.000  Kota Surabaya\n",
       "10               2019 Toyota CAMRY V   Rp 486.000.000  Kota Surabaya\n",
       "11               2019 Toyota CAMRY V   Rp 470.000.000  Kota Surabaya\n",
       "12  2018 Mitsubishi XPANDER ULTIMATE   Rp 235.000.000  Kota Surabaya\n",
       "13                 2016 Honda HR-V E   Rp 245.000.000  Kota Surabaya\n",
       "14                2019 Honda JAZZ RS   Rp 276.000.000  Kota Surabaya\n",
       "15                 2019 Honda HR-V E   Rp 290.000.000  Kota Surabaya\n",
       "16                2019 Honda JAZZ RS   Rp 271.000.000  Kota Surabaya\n",
       "17                 2011 Lexus RX 270   Rp 292.000.000  Kota Surabaya\n",
       "18                2021 Honda BRIO RS   Rp 198.000.000  Kota Surabaya\n",
       "19              2020 Suzuki XL7 BETA   Rp 214.000.000  Kota Surabaya"
      ]
     },
     "execution_count": 59,
     "metadata": {},
     "output_type": "execute_result"
    }
   ],
   "source": [
    "pd.DataFrame(data)"
   ]
  }
 ],
 "metadata": {
  "colab": {
   "provenance": []
  },
  "kernelspec": {
   "display_name": "Python 3 (ipykernel)",
   "language": "python",
   "name": "python3"
  },
  "language_info": {
   "codemirror_mode": {
    "name": "ipython",
    "version": 3
   },
   "file_extension": ".py",
   "mimetype": "text/x-python",
   "name": "python",
   "nbconvert_exporter": "python",
   "pygments_lexer": "ipython3",
   "version": "3.9.12"
  }
 },
 "nbformat": 4,
 "nbformat_minor": 5
}
